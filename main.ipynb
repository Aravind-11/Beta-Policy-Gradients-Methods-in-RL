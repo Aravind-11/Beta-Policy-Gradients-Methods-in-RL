{
 "cells": [
  {
   "cell_type": "code",
   "execution_count": 1,
   "metadata": {},
   "outputs": [
    {
     "name": "stdout",
     "output_type": "stream",
     "text": [
      "Gym: 0.17.3\n"
     ]
    }
   ],
   "source": [
    "import gym\n",
    "\n",
    "import random\n",
    "import numpy as np\n",
    "\n",
    "from collections import deque\n",
    "print(\"Gym:\", gym.__version__)\n",
    "import matplotlib.pyplot as plt"
   ]
  },
  {
   "cell_type": "code",
   "execution_count": 2,
   "metadata": {},
   "outputs": [],
   "source": [
    "from unn import nn_arch,relu,relu_backward,single_layer_forward_propagation,full_forward_propagation,u_full_backward_propagation,single_layer_backward_propagation\n",
    "from vnn import init_layers\n",
    "from Adam import initialize_adam,update_parameters_with_adam\n",
    "from baseline import b_full_backward_propagation,update_b"
   ]
  },
  {
   "cell_type": "code",
   "execution_count": 3,
   "metadata": {
    "colab": {
     "base_uri": "https://localhost:8080/",
     "height": 51
    },
    "colab_type": "code",
    "id": "XNPmrnStApin",
    "outputId": "4075ae36-9876-4115-a386-05a300bdf83c"
   },
   "outputs": [
    {
     "name": "stdout",
     "output_type": "stream",
     "text": [
      "Observation space: Box(-8.0, 8.0, (3,), float32)\n",
      "Action space: Box(-2.0, 2.0, (1,), float32)\n"
     ]
    }
   ],
   "source": [
    "env_name = \"Pendulum-v0\"\n",
    "env = gym.make(env_name)\n",
    "print(\"Observation space:\", env.observation_space)\n",
    "print(\"Action space:\", env.action_space)"
   ]
  },
  {
   "cell_type": "code",
   "execution_count": 4,
   "metadata": {
    "colab": {
     "base_uri": "https://localhost:8080/",
     "height": 34
    },
    "colab_type": "code",
    "id": "lSzE51eEApiz",
    "outputId": "a4575085-36d0-4411-de4d-8226d8e19502"
   },
   "outputs": [
    {
     "data": {
      "text/plain": [
       "array([-0.25991607,  0.2705232 ,  3.541339  ], dtype=float32)"
      ]
     },
     "execution_count": 4,
     "metadata": {},
     "output_type": "execute_result"
    }
   ],
   "source": [
    "env.observation_space.sample()"
   ]
  },
  {
   "cell_type": "code",
   "execution_count": 5,
   "metadata": {
    "colab": {
     "base_uri": "https://localhost:8080/",
     "height": 34
    },
    "colab_type": "code",
    "id": "BtbSay_SApi6",
    "outputId": "949caf36-565b-42fc-c8c7-3f50619102bd"
   },
   "outputs": [
    {
     "data": {
      "text/plain": [
       "array([-1.4619938], dtype=float32)"
      ]
     },
     "execution_count": 5,
     "metadata": {},
     "output_type": "execute_result"
    }
   ],
   "source": [
    "env.action_space.sample()"
   ]
  },
  {
   "cell_type": "code",
   "execution_count": 6,
   "metadata": {
    "colab": {},
    "colab_type": "code",
    "id": "YLy2DQhhApjE"
   },
   "outputs": [],
   "source": [
    "#Hyperparameters\n",
    "NUM_EPISODES = 1000\n",
    "learning_rate = 0.001\n",
    "GAMMA = 0.99"
   ]
  },
  {
   "cell_type": "code",
   "execution_count": 7,
   "metadata": {},
   "outputs": [],
   "source": [
    "nn_architecture=nn_arch()"
   ]
  },
  {
   "cell_type": "code",
   "execution_count": 8,
   "metadata": {},
   "outputs": [],
   "source": [
    "u_params_values=init_layers(nn_architecture,seed=99)\n",
    "v_params_values=init_layers(nn_architecture,seed=99)"
   ]
  },
  {
   "cell_type": "code",
   "execution_count": 9,
   "metadata": {},
   "outputs": [],
   "source": [
    "state=env.reset()\n",
    "state=state.reshape(3,1)"
   ]
  },
  {
   "cell_type": "code",
   "execution_count": 10,
   "metadata": {},
   "outputs": [],
   "source": [
    "def policy(state,w1,w2):\n",
    "    \n",
    "    u,c1 = full_forward_propagation(state, u_params_values, nn_architecture)\n",
    "\n",
    "    \n",
    "    v,c2= full_forward_propagation(state,v_params_values,nn_architecture)\n",
    "    \n",
    "    \n",
    "    a=np.random.normal(np.squeeze(u),np.squeeze(v))\n",
    "    #print(a)\n",
    "    return a,v,u,c1,c2"
   ]
  },
  {
   "cell_type": "code",
   "execution_count": 11,
   "metadata": {},
   "outputs": [],
   "source": [
    "def gradients(a,v,u,u_params_values,v_params_values,nn_architecture,c1,c2):\n",
    "    \n",
    "    v_grads= v_full_backward_propagation(v, a,u, c2, v_params_values, nn_architecture)\n",
    "    u_grads= u_full_backward_propagation(u, a, v,c1, u_params_values, nn_architecture)\n",
    "    #print(v_grads)\n",
    "    #print(u_grads)\n",
    "    return v_grads,u_grads"
   ]
  },
  {
   "cell_type": "code",
   "execution_count": 12,
   "metadata": {},
   "outputs": [],
   "source": [
    "a,v,u,c1,c2=policy(state,u_params_values,v_params_values)"
   ]
  },
  {
   "cell_type": "code",
   "execution_count": 13,
   "metadata": {},
   "outputs": [],
   "source": [
    "u_grads= u_full_backward_propagation(u, a, v,c1, u_params_values, nn_architecture)\n",
    "\n"
   ]
  },
  {
   "cell_type": "code",
   "execution_count": 14,
   "metadata": {},
   "outputs": [],
   "source": [
    "state=env.reset()\n",
    "state=state.reshape(3,1)\n",
    "#b_params_values=init_layers(nn_architecture,seed=99)\n",
    "env.reset()\n",
    "_,reward,_,_ = env.step([2])\n",
    "#b,c3=full_forward_propagation(state,b_params_values,nn_architecture)\n",
    "#b_grads=b_full_backward_propagation(b,reward,c3, b_params_values, nn_architecture)"
   ]
  },
  {
   "cell_type": "code",
   "execution_count": 15,
   "metadata": {},
   "outputs": [],
   "source": [
    "delta_sum={}\n",
    "for key in u_grads:\n",
    "    delta_sum[key]=np.zeros((u_grads[key].shape))"
   ]
  },
  {
   "cell_type": "code",
   "execution_count": 16,
   "metadata": {},
   "outputs": [],
   "source": [
    "''' \n",
    "b_params_values=init_layers(nn_architecture,seed=99)\n",
    "env.reset()\n",
    "state,reward,_,_ = env.step([2])\n",
    "state=state.reshape(3,1)\n",
    "b,c3=full_forward_propagation(state,b_params_values,nn_architecture)\n",
    "b_grads=b_full_backward_propagation(b,reward,c3, b_params_values, nn_architecture)\n",
    "b_delta_sum={}\n",
    "for key in b_grads:\n",
    "    b_delta_sum[key]=np.zeros((b_grads[key].shape))\n",
    "    '''"
   ]
  },
  {
   "cell_type": "code",
   "execution_count": 17,
   "metadata": {},
   "outputs": [],
   "source": [
    "#b,c3=full_forward_propagation(state,b_params_values,nn_architecture)\n",
    "\n"
   ]
  },
  {
   "cell_type": "code",
   "execution_count": 21,
   "metadata": {},
   "outputs": [],
   "source": [
    "def initilization_RMS(params):\n",
    "    s = {}\n",
    "    for i in range(len(params)//2 ):\n",
    "        s[\"dW\" + str(i+1)] = np.zeros(params[\"W\" + str(i+1)].shape)\n",
    "        s[\"db\" + str(i+1)] = np.zeros(params[\"b\" + str(i+1)].shape)\n",
    "    return s\n",
    "\n",
    "def update_params_with_RMS(params, grads,s, beta, learning_rate):\n",
    "    \n",
    "    # grads has the dw and db parameters from backprop\n",
    "    # params  has the W and b parameters which we have to update \n",
    "    for l in range(len(params) // 2 ):\n",
    "        # HERE WE COMPUTING THE VELOCITIES \n",
    "        s[\"dW\" + str(l+1)]= beta * s[\"dW\" + str(l+1)] + (1 - beta) * np.square(grads['dW' + str(l+1)])\n",
    "        s[\"db\" + str(l+1)] = beta * s[\"db\" + str(l+1)] + (1 - beta) * np.square(grads['db' + str(l+1)])\n",
    "        \n",
    "        #updating parameters W and b\n",
    "        params[\"W\" + str(l+1)] = params[\"W\" + str(l+1)] - learning_rate * grads['dW' + str(l+1)] / (np.sqrt( s[\"dW\" + str(l+1)] )+ pow(10,-4))\n",
    "        params[\"b\" + str(l+1)] = params[\"b\" + str(l+1)] - learning_rate * grads['db' + str(l+1)] / (np.sqrt( s[\"db\" + str(l+1)]) + pow(10,-4))\n",
    "\n",
    "    return params"
   ]
  },
  {
   "cell_type": "code",
   "execution_count": 22,
   "metadata": {},
   "outputs": [],
   "source": [
    "def update(params_values, nn_architecture, learning_rate,rewards,GAMMA,u_delta_sum):\n",
    "    for layer_idx, layer in enumerate(nn_architecture):\n",
    "            params_values[\"W\" + str(layer_idx+1)] += learning_rate *u_delta_sum['dW'+str(layer_idx+1)] * sum([  r*(GAMMA**t) for t,r in enumerate(rewards)])\n",
    "            params_values[\"b\" + str(layer_idx+1)] += learning_rate * u_delta_sum['db'+str(layer_idx+1)]* sum([  r*(GAMMA**t) for t,r in enumerate(rewards)])\n",
    "        \n",
    "    #print(params_values)\n",
    "    return params_values"
   ]
  },
  {
   "cell_type": "code",
   "execution_count": 23,
   "metadata": {},
   "outputs": [],
   "source": [
    "'''\n",
    "b_nn_architecture = [\n",
    "    {\"input_dim\": 3, \"output_dim\": 5, \"activation\": \"relu\"},\n",
    "    {\"input_dim\": 5, \"output_dim\": 4, \"activation\": \"relu\"},\n",
    "    {\"input_dim\": 4, \"output_dim\": 3, \"activation\": \"relu\"},\n",
    "    {\"input_dim\": 3, \"output_dim\": 1, \"activation\": \"sigmoid\"},]\n",
    "    '''"
   ]
  },
  {
   "cell_type": "code",
   "execution_count": 24,
   "metadata": {},
   "outputs": [],
   "source": [
    "#b_params=init_layers(b_nn_architecture)"
   ]
  },
  {
   "cell_type": "code",
   "execution_count": 26,
   "metadata": {},
   "outputs": [],
   "source": [
    "#b,c4=full_forward_propagation(state, b_params, b_nn_architecture)"
   ]
  },
  {
   "cell_type": "code",
   "execution_count": 31,
   "metadata": {
    "colab": {},
    "colab_type": "code",
    "id": "bmY7HW81Apjf"
   },
   "outputs": [],
   "source": [
    "## guassisan policy \n",
    "NUM_EPISODES = 1000\n",
    "learning_rate = 0.01\n",
    "GAMMA = 0.99\n",
    "#weight update interval\n",
    "weight_update_interval=10\n",
    "weights_dict={}\n",
    "for i in u_params_values:\n",
    "    weights_dict[i]=np.zeros((u_params_values[i].shape))\n",
    "u_params_values_avg=[]    \n",
    "#u_params_values_avg=0\n",
    "#v_params_values_avg=0\n",
    "# Keep stats for final print of graph\n",
    "episode_rewards = []\n",
    "num_eps=[]\n",
    "#neural network architecture\n",
    "nn_architecture=nn_arch()\n",
    "#initailse\n",
    "u_params_values=init_layers(nn_architecture,seed=99)\n",
    "b_params_values=init_layers(b_nn_architecture,seed=99)\n",
    "#v_params_values=init_layers(nn_architecture,seed=99)\n",
    "# Our policy that maps state to action parameterized by w1,w2\n",
    "\n",
    "def policy(state,w1):\n",
    "    \n",
    "    u,c1 = full_forward_propagation(state, w1, nn_architecture)\n",
    "\n",
    "    \n",
    "    #v,c2= full_forward_propagation(state,v_params_values,nn_architecture)\n",
    "    v=0.0009\n",
    "    \n",
    "    a=np.average(u)+0.7*(v)\n",
    "    a=[a]\n",
    "    #print(a)\n",
    "    a=np.clip(a,-2,+2)\n",
    "    return a,v,u,c1\n",
    "\n",
    "u_delta_sum={}\n",
    "#v_delta_sum={}\n",
    "#for key in v_grads:\n",
    "    #v_delta_sum[key]=np.zeros((v_grads[key].shape))\n",
    "for key in u_grads:\n",
    "    u_delta_sum[key]=np.zeros((u_grads[key].shape))\n",
    "    \n",
    "# Main loop \n",
    "#v1,s1 = initilization_Adam(u_params_values)\n",
    "#print(v)\n",
    "s1=initilization_RMS(u_params_values)\n",
    "s2=initilization_RMS(b_params_values)\n",
    "for e in range(1,NUM_EPISODES+1):\n",
    "\n",
    "    state = env.reset()\n",
    "    ##b_grads1=[]\n",
    "    grads1 = []\n",
    "    grads2=[]\n",
    "    rewards = []\n",
    "    u_delta_sum={}\n",
    "    for key in u_grads:\n",
    "        u_delta_sum[key]=np.zeros((u_grads[key].shape))\n",
    "    for key in b_grads:\n",
    "        b_delta_sum[key]=np.zeros((b_grads[key].shape))\n",
    "    # Keep track of game score to print\n",
    "    score = 0\n",
    "    #v,s=initialize_adam(u_params_values)\n",
    "    t=0\n",
    "    while True:\n",
    "        \n",
    "        state=state.reshape(3,1)\n",
    "        state=state/env.observation_space.high\n",
    "        a,v,u,c1=policy(state,u_params_values)\n",
    "        #b,c3=full_forward_propagation(state,b_params_values,b_nn_architecture)\n",
    "        next_state,reward,done,_ = env.step(a)\n",
    "        # Compute gradient \n",
    "        \n",
    "        u_grads= u_full_backward_propagation(u, a, v,c1, u_params_values, nn_architecture)\n",
    "        u_params_values=update_params_with_RMS(u_params_values, u_grads,s1, beta=0.9, learning_rate=learning_rate)\n",
    "        #b_grads=b_full_backward_propagation(b,reward,c3, b_params_values, b_nn_architecture)\n",
    "        #b_params_values=update_params_with_RMS(b_params_values, b_grads,s2, beta=0.9, learning_rate=learning_rate)\n",
    "        grads1.append(u_grads)\n",
    "        ##b_grads1.append(b_grads)\n",
    "        #print(b)\n",
    "        rewards.append(reward)\n",
    "        \n",
    "        score+=reward\n",
    "        state = next_state\n",
    "        if done:\n",
    "             break\n",
    "    \n",
    "    for i in grads1:\n",
    "        for j in u_grads:\n",
    "            u_delta_sum[j]+=i[j]\n",
    "    ##for i in b_grads1:\n",
    "    ##    for j in b_grads:\n",
    "    ##        b_delta_sum[j]+=i[j]\n",
    "    ##b_params_values=update_b(b_params_values, b_delta_sum, nn_architecture, learning_rate)\n",
    "    u_params_values_avg.append(update(u_params_values, nn_architecture, learning_rate,rewards,GAMMA,u_delta_sum))\n",
    "    if(e%weight_update_interval==0):\n",
    "        for i in u_params_values_avg:\n",
    "            for j in u_params_values:\n",
    "                weights_dict[j]+=i[j]\n",
    "                \n",
    "        for i in weights_dict:\n",
    "            weights_dict[i]=weights_dict[i]/weight_update_interval\n",
    "            u_params_values[i]=weights_dict[i]\n",
    "            \n",
    "        for i in weights_dict:\n",
    "            weights_dict[i]=np.zeros((u_params_values[i].shape))\n",
    "        u_params_values_avg=[]\n",
    "                \n",
    "     \n",
    "    episode_rewards.append(score)  #rewards \n",
    "    num_eps.append(e) #number of episodes"
   ]
  },
  {
   "cell_type": "code",
   "execution_count": 32,
   "metadata": {
    "colab": {},
    "colab_type": "code",
    "id": "P77D8CzD8hF_"
   },
   "outputs": [],
   "source": [
    "num_eps=np.squeeze(num_eps)\n",
    "num_eps=num_eps[:,None]\n",
    "episode_rewards=np.squeeze(episode_rewards)\n",
    "episode_rewards=episode_rewards[:,None]"
   ]
  },
  {
   "cell_type": "code",
   "execution_count": 33,
   "metadata": {
    "colab": {
     "base_uri": "https://localhost:8080/",
     "height": 296
    },
    "colab_type": "code",
    "id": "Slnxooh5D80g",
    "outputId": "4043a7d4-9846-4e38-9b95-73b8e116c2b1"
   },
   "outputs": [
    {
     "data": {
      "text/plain": [
       "[<matplotlib.lines.Line2D at 0x7fb2336a3e20>]"
      ]
     },
     "execution_count": 33,
     "metadata": {},
     "output_type": "execute_result"
    },
    {
     "data": {
      "image/png": "[encoded data removed]",
      "text/plain": [
       "<Figure size 432x288 with 1 Axes>"
      ]
     },
     "metadata": {
      "needs_background": "light"
     },
     "output_type": "display_data"
    }
   ],
   "source": [
    "#plotting rewards vs episodes\n",
    "plt.xlabel('number of episodes')\n",
    "plt.ylabel('Total reward')\n",
    "plt.plot(num_eps,episode_rewards)"
   ]
  },
  {
   "cell_type": "code",
   "execution_count": 19,
   "metadata": {},
   "outputs": [],
   "source": [
    "#nn_architecture = [\n",
    "   # {\"input_dim\": 3, \"output_dim\": 4, \"activation\": \"relu\"},\n",
    "   # {\"input_dim\": 4, \"output_dim\": 6, \"activation\": \"relu\"},\n",
    "   # {\"input_dim\": 6, \"output_dim\": 6, \"activation\": \"relu\"},\n",
    "   # {\"input_dim\": 6, \"output_dim\": 4, \"activation\": \"relu\"},\n",
    "   # {\"input_dim\": 4, \"output_dim\": 1, \"activation\": \"relu\"},\n",
    "    #]"
   ]
  },
  {
   "cell_type": "code",
   "execution_count": null,
   "metadata": {},
   "outputs": [],
   "source": [
    "##Beta policy - only half implemented \n",
    "NUM_EPISODES = 1000\n",
    "learning_rate = 0.01\n",
    "GAMMA = 0.99\n",
    "#weight update interval\n",
    "weight_update_interval=10\n",
    "weights_dict={}\n",
    "for i in u_params_values:\n",
    "    weights_dict[i]=np.zeros((u_params_values[i].shape))\n",
    "u_params_values_avg=[]    \n",
    "#u_params_values_avg=0\n",
    "#v_params_values_avg=0\n",
    "# Keep stats for final print of graph\n",
    "episode_rewards = []\n",
    "num_eps=[]\n",
    "#neural network architecture\n",
    "nn_architecture=nn_arch()\n",
    "#initailse\n",
    "u_params_values=init_layers(nn_architecture,seed=99)\n",
    "#b_params_values=init_layers(b_nn_architecture,seed=99)\n",
    "v_params_values=init_layers(nn_architecture,seed=99)\n",
    "# Our policy that maps state to action parameterized by w1,w2\n",
    "\n",
    "def policy(state,w1):\n",
    "    \n",
    "    u,c1 = full_forward_propagation(state, w1, nn_architecture)\n",
    "\n",
    "    \n",
    "    v,c2= full_forward_propagation(state,v_params_values,nn_architecture)\n",
    "    v=0.0009\n",
    "    \n",
    "    a=np.random.beta(u, v, size=None)\n",
    "    #print(a)\n",
    "    a=np.clip(a,-2,+2)\n",
    "    return a,v,u,c1\n",
    "\n",
    "u_delta_sum={}\n",
    "#v_delta_sum={}\n",
    "#for key in v_grads:\n",
    "    #v_delta_sum[key]=np.zeros((v_grads[key].shape))\n",
    "for key in u_grads:\n",
    "    u_delta_sum[key]=np.zeros((u_grads[key].shape))\n",
    "    \n",
    "# Main loop \n",
    "#v1,s1 = initilization_Adam(u_params_values)\n",
    "#print(v)\n",
    "s1=initilization_RMS(u_params_values)\n",
    "s2=initilization_RMS(b_params_values)\n",
    "for e in range(1,NUM_EPISODES+1):\n",
    "\n",
    "    state = env.reset()\n",
    "    ##b_grads1=[]\n",
    "    grads1 = []\n",
    "    grads2=[]\n",
    "    rewards = []\n",
    "    u_delta_sum={}\n",
    "    for key in u_grads:\n",
    "        u_delta_sum[key]=np.zeros((u_grads[key].shape))\n",
    "    for key in b_grads:\n",
    "        b_delta_sum[key]=np.zeros((b_grads[key].shape))\n",
    "    # Keep track of game score to print\n",
    "    score = 0\n",
    "    #v,s=initialize_adam(u_params_values)\n",
    "    t=0\n",
    "    while True:\n",
    "        \n",
    "        state=state.reshape(3,1)\n",
    "        state=state/env.observation_space.high\n",
    "        a,v,u,c1=policy(state,u_params_values)\n",
    "        #b,c3=full_forward_propagation(state,b_params_values,b_nn_architecture)\n",
    "        next_state,reward,done,_ = env.step(a)\n",
    "        # Compute gradient \n",
    "        \n",
    "        u_grads= u_full_backward_propagation(u, a, v,c1, u_params_values, nn_architecture)\n",
    "        u_params_values=update_params_with_RMS(u_params_values, u_grads,s1, beta=0.9, learning_rate=learning_rate)\n",
    "        #b_grads=b_full_backward_propagation(b,reward,c3, b_params_values, b_nn_architecture)\n",
    "        #b_params_values=update_params_with_RMS(b_params_values, b_grads,s2, beta=0.9, learning_rate=learning_rate)\n",
    "        grads1.append(u_grads)\n",
    "        ##b_grads1.append(b_grads)\n",
    "        #print(b)\n",
    "        rewards.append(reward)\n",
    "        \n",
    "        score+=reward\n",
    "        state = next_state\n",
    "        if done:\n",
    "             break\n",
    "    \n",
    "    for i in grads1:\n",
    "        for j in u_grads:\n",
    "            u_delta_sum[j]+=i[j]\n",
    "    ##for i in b_grads1:\n",
    "    ##    for j in b_grads:\n",
    "    ##        b_delta_sum[j]+=i[j]\n",
    "    ##b_params_values=update_b(b_params_values, b_delta_sum, nn_architecture, learning_rate)\n",
    "    u_params_values_avg.append(update(u_params_values, nn_architecture, learning_rate,rewards,GAMMA,u_delta_sum))\n",
    "    if(e%weight_update_interval==0):\n",
    "        for i in u_params_values_avg:\n",
    "            for j in u_params_values:\n",
    "                weights_dict[j]+=i[j]\n",
    "                \n",
    "        for i in weights_dict:\n",
    "            weights_dict[i]=weights_dict[i]/weight_update_interval\n",
    "            u_params_values[i]=weights_dict[i]\n",
    "            \n",
    "        for i in weights_dict:\n",
    "            weights_dict[i]=np.zeros((u_params_values[i].shape))\n",
    "        u_params_values_avg=[]\n",
    "                \n",
    "     \n",
    "    episode_rewards.append(score)  #rewards \n",
    "    num_eps.append(e) #number of episodes"
   ]
  }
 ],
 "metadata": {
  "accelerator": "GPU",
  "colab": {
   "name": "pg.ipynb",
   "provenance": []
  },
  "kernelspec": {
   "display_name": "Python 3",
   "language": "python",
   "name": "python3"
  },
  "language_info": {
   "codemirror_mode": {
    "name": "ipython",
    "version": 3
   },
   "file_extension": ".py",
   "mimetype": "text/x-python",
   "name": "python",
   "nbconvert_exporter": "python",
   "pygments_lexer": "ipython3",
   "version": "3.8.3"
  }
 },
 "nbformat": 4,
 "nbformat_minor": 4
}
